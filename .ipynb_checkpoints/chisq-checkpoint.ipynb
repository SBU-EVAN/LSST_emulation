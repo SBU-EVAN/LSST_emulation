{
 "cells": [
  {
   "cell_type": "markdown",
   "id": "87f48028",
   "metadata": {},
   "source": [
    "## Tension Calibration\n",
    "\n",
    "Here I will use the Planck fiducial cosmology and LSST covariance to generate data vectors near the Planck cosmology."
   ]
  },
  {
   "cell_type": "code",
   "execution_count": 1,
   "id": "47c92248",
   "metadata": {},
   "outputs": [],
   "source": [
    "import numpy as np\n",
    "import torch\n",
    "import matplotlib.pyplot as plt\n",
    "from tqdm.notebook import tqdm\n",
    "%matplotlib inline\n",
    "from getdist import plots, MCSamples\n",
    "import getdist\n",
    "from multiprocessing import Pool\n",
    "\n",
    "import sys\n",
    "import time\n",
    "from cocoa_emu import *\n",
    "from cocoa_emu.emulator import NNEmulator, GPEmulator\n",
    "from cocoa_emu.data_model import LSST_3x2\n",
    "\n",
    "import emcee\n",
    "import time"
   ]
  },
  {
   "cell_type": "code",
   "execution_count": 3,
   "id": "c1748bd2",
   "metadata": {},
   "outputs": [],
   "source": [
    "# Get the LSST covariance and fid data\n",
    "path = '/home/grads/data/evan/tension_calibration/data/lsst_y1/'\n",
    "lsst_cov = np.loadtxt(path+'cov_lsst_y1')\n",
    "fid_cos = np.loadtxt(path+'lsst_y1_data_fid',dtype=np.float32)[:,1]"
   ]
  },
  {
   "cell_type": "code",
   "execution_count": 4,
   "id": "b691d09a",
   "metadata": {},
   "outputs": [],
   "source": [
    "lsst_y1_cov = np.zeros((1560, 1560))\n",
    "for line in lsst_cov:\n",
    "    i = int(line[0])\n",
    "    j = int(line[1])\n",
    "\n",
    "    cov_g_block  = line[-2]\n",
    "    cov_ng_block = line[-1]\n",
    "\n",
    "    cov_ij = cov_g_block + cov_ng_block\n",
    "\n",
    "    lsst_y1_cov[i,j] = cov_ij\n",
    "    lsst_y1_cov[j,i] = cov_ij\n",
    "    \n",
    "fid = torch.Tensor(fid_cos)\n",
    "cov = torch.Tensor(lsst_y1_cov)"
   ]
  },
  {
   "cell_type": "code",
   "execution_count": 5,
   "id": "a09e13bb",
   "metadata": {},
   "outputs": [],
   "source": [
    "noise_dist = torch.distributions.multivariate_normal.MultivariateNormal(\n",
    "    loc=fid, covariance_matrix=cov\n",
    ")"
   ]
  },
  {
   "cell_type": "code",
   "execution_count": 6,
   "id": "fbd1c086",
   "metadata": {},
   "outputs": [],
   "source": [
    "n_samples = 3\n",
    "\n",
    "data_set = [noise_dist.sample() for i in range(n_samples)]"
   ]
  },
  {
   "cell_type": "code",
   "execution_count": 7,
   "id": "60bcc980",
   "metadata": {},
   "outputs": [],
   "source": [
    "chisq = np.zeros(n_samples)\n",
    "\n",
    "inv_cov = torch.inverse(cov)\n",
    "for i in range(n_samples):\n",
    "    data_vec = data_set[i]-fid\n",
    "    data_vec_T = np.transpose(data_vec)\n",
    "    chi2 = np.matmul(data_vec_T,np.matmul(inv_cov,data_vec))\n",
    "    chisq[i]=chi2"
   ]
  },
  {
   "cell_type": "code",
   "execution_count": 8,
   "id": "65aa6fbd",
   "metadata": {},
   "outputs": [
    {
     "name": "stdout",
     "output_type": "stream",
     "text": [
      "[1639.29382324 1560.27429199 1493.20446777]\n"
     ]
    }
   ],
   "source": [
    "plt.xlabel('$\\chi^2$')\n",
    "plt.hist(chisq,bins=int(np.amax(chisq))+1)\n",
    "plt.show()\n",
    "print(chisq)"
   ]
  },
  {
   "cell_type": "code",
   "execution_count": 8,
   "id": "a49654ae",
   "metadata": {},
   "outputs": [
    {
     "name": "stdout",
     "output_type": "stream",
     "text": [
      "Removed no burn in\n",
      "[1589.26000977 1600.59326172]\n"
     ]
    }
   ],
   "source": [
    "chain = MCSamples(samples=chisq,names=['chisq'])\n",
    "print(chain.twoTailLimits(0,.95))"
   ]
  },
  {
   "cell_type": "code",
   "execution_count": 9,
   "id": "c0a78f6b",
   "metadata": {},
   "outputs": [],
   "source": [
    "# Code taken from the emulator notebook"
   ]
  },
  {
   "cell_type": "code",
   "execution_count": 10,
   "id": "b3648b48",
   "metadata": {},
   "outputs": [],
   "source": [
    "configfile = 'configs/nn_emu.yaml'\n",
    "config = Config(configfile)\n",
    "\n",
    "config_args     = config.config_args\n",
    "config_args_io  = config_args['io']\n",
    "config_args_data = config_args['data']\n",
    "\n",
    "savedir = 'output/nn_emu/'\n",
    "\n",
    "N_DIM         = 17\n",
    "data_model    = LSST_3x2(N_DIM, config_args_io, config_args_data)\n",
    "data_model.dv_fid = data_set[0].numpy()\n",
    "data_model.dv_obs = data_set[0].numpy()\n",
    "data_model.emu_type = 'nn'\n",
    "OUTPUT_DIM = 1560\n",
    "\n",
    "emu = NNEmulator(N_DIM, OUTPUT_DIM, data_model.dv_fid, data_model.dv_std)    \n",
    "emu.load('model/nn_emu/model')\n",
    "# ======================================================\n",
    "\n",
    "data_model.emu = emu"
   ]
  },
  {
   "cell_type": "code",
   "execution_count": 16,
   "id": "65220e1e",
   "metadata": {},
   "outputs": [],
   "source": [
    "bias_fid         = data_model.bias_fid\n",
    "bias_mask        = data_model.bias_mask\n",
    "shear_calib_mask = data_model.shear_calib_mask\n",
    "\n",
    "def add_bias(bias_theta, datavector):\n",
    "    for i in range(5):\n",
    "        factor = (bias_theta[i] / bias_fid[i])**bias_mask[i]\n",
    "        datavector = factor * datavector\n",
    "    return datavector\n",
    "\n",
    "def add_shear_calib(m, datavector):\n",
    "    for i in range(5):\n",
    "        factor = (1 + m[i])**shear_calib_mask[i]\n",
    "        datavector = factor * datavector\n",
    "    return datavector"
   ]
  },
  {
   "cell_type": "code",
   "execution_count": 17,
   "id": "61e63f22",
   "metadata": {},
   "outputs": [],
   "source": [
    "def hard_prior(theta, params_prior):\n",
    "    \"\"\"\n",
    "    A function to impose a flat prior on a set of parameters.\n",
    "    :theta: The set of parameter values\n",
    "    :params_prior: The minimum and the maximum value of the parameters on which this prior is imposed\n",
    "    \"\"\"\n",
    "    is_lower_than_min = bool(np.sum(theta < params_prior[:,0]))\n",
    "    is_higher_than_max = bool(np.sum(theta > params_prior[:,1]))\n",
    "    if is_lower_than_min or is_higher_than_max:\n",
    "        return -np.inf\n",
    "    else:\n",
    "        return 0.\n",
    "    \n",
    "cosmo_prior_lim = np.array([[1.61, 3.91],\n",
    "                       [0.87, 1.07],\n",
    "                       [55, 91],\n",
    "                       [0.01, 0.04],\n",
    "                       [0.001, 0.99]])\n",
    "\n",
    "ia_prior_lim = np.array([[-5., 5.],\n",
    "                       [-5., 5.]])\n",
    "\n",
    "bias_prior_lim = np.array([[0.8, 3.],\n",
    "                       [0.8, 3.],\n",
    "                       [0.8, 3.],\n",
    "                       [0.8, 3.],\n",
    "                       [0.8, 3.]])\n",
    "\n",
    "baryon_prior_lim = np.array([[-3., 12.],\n",
    "                             [-2.5, 2.5]])\n",
    "\n",
    "baryon_prior_lim = 3. * baryon_prior_lim \n",
    "\n",
    "dz_source_std   = 0.002 * np.ones(5)\n",
    "dz_lens_std     = 0.005 * np.ones(5)\n",
    "shear_calib_std = 0.005 * np.ones(5)\n",
    "    \n",
    "def lnprior(theta):\n",
    "    cosmo_theta = theta[:5]\n",
    "    ns          = cosmo_theta[1]\n",
    "\n",
    "    ns_prior    = 0.\n",
    "    \n",
    "    dz_source   = theta[5:10]\n",
    "    ia_theta    = theta[10:12]\n",
    "    dz_lens     = theta[12:17]\n",
    "    bias        = theta[17:22]\n",
    "    shear_calib = theta[22:27]\n",
    "    baryon_q    = theta[27:]\n",
    "    \n",
    "    cosmo_prior = hard_prior(cosmo_theta, cosmo_prior_lim) + ns_prior\n",
    "    ia_prior    = hard_prior(ia_theta, ia_prior_lim)\n",
    "    bias_prior  = hard_prior(bias, bias_prior_lim)\n",
    "    baryon_prior = hard_prior(baryon_q, baryon_prior_lim)\n",
    "    \n",
    "    dz_source_lnprior   = -0.5 * np.sum((dz_source / dz_source_std)**2)\n",
    "    dz_lens_lnprior     = -0.5 * np.sum((dz_lens / dz_lens_std)**2)\n",
    "    shear_calib_lnprior = -0.5 * np.sum((shear_calib / shear_calib_std)**2)\n",
    "    \n",
    "    return cosmo_prior + ia_prior + dz_source_lnprior + dz_lens_lnprior + \\\n",
    "            shear_calib_lnprior + bias_prior + baryon_prior\n",
    "    \n",
    "def ln_lkl(theta):\n",
    "    model_datavector = get_data_vector_emu(theta)\n",
    "    delta_dv = (model_datavector - data_model.dv_obs)[data_model.mask_3x2]\n",
    "    return -0.5 * delta_dv @ data_model.masked_inv_cov @ delta_dv\n",
    "\n",
    "def lnprob(theta):\n",
    "    return lnprior(theta) + ln_lkl(theta)"
   ]
  },
  {
   "cell_type": "code",
   "execution_count": 18,
   "id": "9609cb1b",
   "metadata": {},
   "outputs": [],
   "source": [
    "N_MCMC        = 5000\n",
    "N_WALKERS     = 120\n",
    "NDIM_SAMPLING = 29\n",
    "\n",
    "theta0    = np.array([3.0675, 0.97, 69.0, 0.0228528, 0.1199772, \n",
    "                      0., 0., 0., 0., 0.,\n",
    "                      0.5, 0.,\n",
    "                      0., 0., 0., 0., 0.,\n",
    "                      1.24, 1.36, 1.47, 1.60, 1.76,\n",
    "                      0., 0., 0., 0., 0.,\n",
    "                      0., 0.])\n",
    "\n",
    "theta_std = np.array([0.01, 0.001, 0.1, 0.001, 0.002, \n",
    "                      0.002, 0.002, 0.002, 0.002, 0.002, \n",
    "                      0.1, 0.1,\n",
    "                      0.005, 0.005, 0.005, 0.005, 0.005, \n",
    "                      0.03, 0.03, 0.03, 0.03, 0.03,\n",
    "                      0.005, 0.005, 0.005, 0.005, 0.005, \n",
    "                      0.1, 0.1]) \n",
    "\n",
    "# Starting position of the emcee chain\n",
    "pos0 = theta0[np.newaxis] + 3. * theta_std[np.newaxis] * np.random.normal(size=(N_WALKERS, NDIM_SAMPLING))"
   ]
  },
  {
   "cell_type": "code",
   "execution_count": null,
   "id": "f9046f93",
   "metadata": {},
   "outputs": [],
   "source": []
  },
  {
   "cell_type": "code",
   "execution_count": 19,
   "id": "907e480c",
   "metadata": {},
   "outputs": [],
   "source": [
    "def get_data_vector_emu(theta):\n",
    "    \"\"\"\n",
    "    Function to get the emulated data vector (including the effect of galaxy bias, baryons, etc.)\n",
    "    \"\"\"\n",
    "    cosmo_ia_dz_theta = theta[:17]\n",
    "    bias        = theta[17:22]\n",
    "    shear_calib = theta[22:27]\n",
    "    baryon_q    = theta[27:]\n",
    "    datavector = data_model.compute_datavector(cosmo_ia_dz_theta)\n",
    "    datavector = np.array(datavector)\n",
    "    datavector = add_bias(bias, datavector)\n",
    "    datavector = add_shear_calib(shear_calib, datavector)\n",
    "    return datavector"
   ]
  },
  {
   "cell_type": "code",
   "execution_count": 20,
   "id": "3e461e5d",
   "metadata": {},
   "outputs": [
    {
     "name": "stderr",
     "output_type": "stream",
     "text": [
      "100%|███████████████████████████████████████████████████████████████████████████████████████████████████████████████████████████████████████████████████████████████████| 5000/5000 [05:50<00:00, 14.25it/s]\n"
     ]
    }
   ],
   "source": [
    "import time\n",
    "start_time = time.time()\n",
    "with Pool(10) as pool:\n",
    "    emu_sampler = emcee.EnsembleSampler(N_WALKERS, NDIM_SAMPLING, lnprob, pool=pool)\n",
    "    emu_sampler.run_mcmc(pos0, N_MCMC, progress=True)"
   ]
  },
  {
   "cell_type": "code",
   "execution_count": 28,
   "id": "47ef131e",
   "metadata": {},
   "outputs": [],
   "source": [
    "fig, ax = plt.subplots(5,1,figsize=(10,12.5))\n",
    "\n",
    "for i in range(5):\n",
    "    ax[i].plot(emu_sampler.chain[:,:,i].T, 'k-', lw=0.3)\n",
    "    \n",
    "plt.show()"
   ]
  },
  {
   "cell_type": "code",
   "execution_count": 29,
   "id": "4f3c124a",
   "metadata": {},
   "outputs": [],
   "source": [
    "N_BURN_IN = 3000\n",
    "N_THIN    = 10"
   ]
  },
  {
   "cell_type": "code",
   "execution_count": 30,
   "id": "d5deef35",
   "metadata": {},
   "outputs": [],
   "source": [
    "samples = emu_sampler.chain[:,N_BURN_IN::N_THIN].reshape((-1,NDIM_SAMPLING))"
   ]
  },
  {
   "cell_type": "code",
   "execution_count": 31,
   "id": "8c975309",
   "metadata": {},
   "outputs": [],
   "source": [
    "from getdist import plots, MCSamples\n",
    "\n",
    "def plot_cosmo_contours(sample_list, legend_labels):\n",
    "    names = ['logA', 'ns', 'H0', 'omegab', 'omegac']\n",
    "    labels =  ['logA', 'ns', 'H0', 'omega b', 'omega c']\n",
    "    \n",
    "    cosmo_truth = [3.0675, 0.97, 69., 0.0228528, 0.1199772]\n",
    "    \n",
    "    truth_dict = {}\n",
    "    for name, truth in zip(names, cosmo_truth):\n",
    "        truth_dict[name] = truth\n",
    "        \n",
    "    getdist_samples = []\n",
    "    for samples, legend_label in zip(sample_list, legend_labels):\n",
    "        cosmo_samples = samples[:,:5]\n",
    "        getdist_samples.append(MCSamples(samples=cosmo_samples,names = names, labels=labels, label=legend_label))\n",
    "    \n",
    "    g = plots.get_subplot_plotter()\n",
    "    g.triangle_plot(getdist_samples, filled=True, markers=truth_dict)\n",
    "    \n",
    "    #plt.show()"
   ]
  },
  {
   "cell_type": "code",
   "execution_count": 32,
   "id": "5f1043a7",
   "metadata": {},
   "outputs": [
    {
     "name": "stdout",
     "output_type": "stream",
     "text": [
      "Removed no burn in\n"
     ]
    }
   ],
   "source": [
    "plot_cosmo_contours([samples], ['Fiducial scalecut'])"
   ]
  },
  {
   "cell_type": "code",
   "execution_count": 33,
   "id": "2de2f7ef",
   "metadata": {},
   "outputs": [
    {
     "name": "stdout",
     "output_type": "stream",
     "text": [
      "Removed no burn in\n"
     ]
    }
   ],
   "source": [
    "# save fiducial\n",
    "d = '/home/grads/data/evan/calib/fiducial'\n",
    "names = ['logA', 'ns', 'H0', 'omegab', 'omegac']\n",
    "labels =  ['logA', 'ns', 'H0', 'omega b', 'omega c']\n",
    "cosmo_samples = samples[:,:5]\n",
    "s = MCSamples(samples=cosmo_samples,names = names, labels=labels)\n",
    "s.saveAsText(root=d,chain_index=None,make_dirs=True)"
   ]
  },
  {
   "cell_type": "code",
   "execution_count": null,
   "id": "25a2e329",
   "metadata": {},
   "outputs": [],
   "source": [
    "samples = []\n",
    "N_BURN_IN = 3000\n",
    "N_THIN    = 10"
   ]
  },
  {
   "cell_type": "code",
   "execution_count": null,
   "id": "32c3b30b",
   "metadata": {},
   "outputs": [],
   "source": [
    "i = 1\n",
    "for data_vector in data_set:\n",
    "    print('data vector {}'.format(i))\n",
    "    i += 1\n",
    "    data_model.dv_obs = data_vector.numpy()\n",
    "    with Pool(10) as pool:\n",
    "        emu_sampler = emcee.EnsembleSampler(N_WALKERS, NDIM_SAMPLING, lnprob, pool=pool)\n",
    "        emu_sampler.run_mcmc(pos0, N_MCMC, progress=True)\n",
    "        samples.append(emu_sampler.chain[:,N_BURN_IN::N_THIN].reshape((-1,NDIM_SAMPLING)))\n",
    "        \n"
   ]
  },
  {
   "cell_type": "code",
   "execution_count": null,
   "id": "9ec41d7a",
   "metadata": {
    "scrolled": true
   },
   "outputs": [],
   "source": [
    "plot_cosmo_contours(samples,['1','2','3'])"
   ]
  },
  {
   "cell_type": "code",
   "execution_count": null,
   "id": "cbd8c184",
   "metadata": {},
   "outputs": [],
   "source": [
    "# write chains to files\n",
    "d = '/home/grads/data/evan/calib/samples'\n",
    "i=0\n",
    "\n",
    "for _s in samples:\n",
    "    names = ['logA', 'ns', 'H0', 'omegab', 'omegac']\n",
    "    labels =  ['logA', 'ns', 'H0', 'omega b', 'omega c']\n",
    "    cosmo_samples = _s[:,:5]\n",
    "    s = MCSamples(samples=cosmo_samples,names = names, labels=labels)\n",
    "    s.saveAsText(root=d,chain_index=i,make_dirs=True)\n",
    "    i += 1\n",
    "    \n"
   ]
  },
  {
   "cell_type": "code",
   "execution_count": 62,
   "id": "96e8a6d3",
   "metadata": {},
   "outputs": [],
   "source": [
    "# Now normalizing flow\n",
    "import tensorflow as tf\n",
    "import tensorflow_probability as tfp\n",
    "tfb = tfp.bijectors\n",
    "tfd = tfp.distributions\n",
    "tfk = tf.keras\n",
    "from tensorflow.keras.models import Model\n",
    "from tensorflow.keras.layers import Input\n",
    "from tensorflow.keras.callbacks import Callback\n",
    "\n",
    "from numpy import linalg"
   ]
  },
  {
   "cell_type": "code",
   "execution_count": 63,
   "id": "0e98d73f",
   "metadata": {},
   "outputs": [],
   "source": [
    "### Functions\n",
    "\n",
    "class Callback(tfk.callbacks.Callback):\n",
    "    def on_train_begin(self, logs=None):\n",
    "        self._loss = []\n",
    "        self._epoch = []\n",
    "        self.n_epochs = self.params['epochs']\n",
    "        print('[                    ] Training... ',end=\"\")\n",
    "        \n",
    "    def on_epoch_begin(self, epoch, logs=None):\n",
    "        progress = int(epoch/self.n_epochs*20)\n",
    "        ret = '\\r['\n",
    "        for i in range(progress):\n",
    "            ret += '#'\n",
    "        for i in range(20-progress):\n",
    "            ret += ' '\n",
    "        print(ret+'] Training... (epoch {}/{})'.format(epoch,self.n_epochs),end=\"\")\n",
    "\n",
    "    def on_epoch_end(self, epoch, logs=None):\n",
    "        self._loss.append(logs['loss'])\n",
    "        self._epoch.append(epoch)\n",
    "\n",
    "    def on_train_end(self, logs=None):\n",
    "        print('\\r'+'[####################] Completed!',end=\"\")\n",
    "        fig,ax1 = plt.subplots(1,1)\n",
    "        \n",
    "        ax1.set_title('loss vs. epoch')\n",
    "        ax1.set_xlabel('epoch')\n",
    "        ax1.set_ylabel('loss')\n",
    "        ax1.plot(self._epoch,self._loss)\n",
    "\n",
    "def pregauss(chain,data):\n",
    "    covmat = chain.cov().astype(np.float32)\n",
    "    mean = chain.getMeans().astype(np.float32)\n",
    "    \n",
    "    # bijector time!\n",
    "    # TriL means the cov matrix is lower triangular. Inverse is easy to compute that way\n",
    "    # the cholesky factorization takes a positive definite hermitian matrix M (like the covmat) to LL^T with L lower triangluar\n",
    "    gauss_approx = tfd.MultivariateNormalTriL(loc=mean,scale_tril=tf.linalg.cholesky(covmat))\n",
    "    bijector = gauss_approx.bijector\n",
    "\n",
    "    # now map the data\n",
    "    new_data = bijector.inverse(data.astype(np.float32))\n",
    "    return new_data,bijector\n",
    "\n",
    "def train(base,data,bijectors,batch_size,n_epochs):\n",
    "    val_split = 0.1\n",
    "    # stack data\n",
    "    _data = []\n",
    "    dim = 0\n",
    "    for key in data.getParamNames().list():\n",
    "        nsamples=len(data[key])\n",
    "        _data.append(data[key])\n",
    "        dim += 1\n",
    "\n",
    "    xdata = np.stack(_data, axis=-1)\n",
    "\n",
    "    x_data,bij = pregauss(data,xdata)\n",
    "\n",
    "    #create data set with weights.\n",
    "    weights = data.weights.astype(np.float32)\n",
    "    \n",
    "    ## NN setup\n",
    "    target_distribution = tfd.TransformedDistribution(\n",
    "        distribution=base,\n",
    "        bijector=tfb.Chain(bijectors)) \n",
    "\n",
    "    # Construct model.\n",
    "    x_ = tfk.Input(shape=(dim,), dtype=tf.float32)\n",
    "    log_prob_ = target_distribution.log_prob(x_)\n",
    "    model = tfk.Model(x_, log_prob_)\n",
    "\n",
    "    model.compile(optimizer=tf.optimizers.Adam(learning_rate=0.01),\n",
    "                  loss=lambda _, log_prob: -log_prob) \n",
    "    \n",
    "    print('---   Model compiled   ---')\n",
    "    print(\" - N samples = {}\".format(nsamples))\n",
    "    if weights.all()==weights[0]:\n",
    "        print(\" - Uniform weights = {}\".format(weights[0]))\n",
    "    else:\n",
    "        print(\" - Non-uniform weights\")\n",
    "    print(\" - Pre-Gaussian Map = True\\n\")\n",
    "    print(\" - Validation split = {}\".format(val_split))\n",
    "    print(' - Number MAFS = {} '.format(int(len(bijectors)/2)))\n",
    "    print(' - Trainable parameters = {} \\n'.format(model.count_params()))\n",
    "    \n",
    "    # now perform the fit\n",
    "    model.fit(x=x_data,\n",
    "              y=np.zeros((nsamples, dim),dtype=np.float32),\n",
    "              batch_size=batch_size,\n",
    "              epochs=n_epochs,\n",
    "              steps_per_epoch=int(nsamples/batch_size*0.8),  # Usually `n // batch_size`.\n",
    "              validation_split=val_split,\n",
    "              shuffle=True,\n",
    "              verbose=False,\n",
    "              callbacks=[Callback(),tfk.callbacks.ReduceLROnPlateau()]) #, ydata\n",
    "    \n",
    "    return(target_distribution,bij)\n",
    "\n",
    "def train_nogauss(base,data,bijectors,batch_size,n_epochs):\n",
    "    val_split = 0.1\n",
    "    # stack data\n",
    "    _data = []\n",
    "    dim = 0\n",
    "    for key in data.getParamNames().list():\n",
    "        nsamples=len(data[key])\n",
    "        _data.append(data[key])\n",
    "        dim += 1\n",
    "\n",
    "    xdata = np.stack(_data, axis=-1)\n",
    "\n",
    "    bij = 0\n",
    "\n",
    "    #create data set with weights.\n",
    "    weights = data.weights.astype(np.float32)\n",
    "    \n",
    "    ## NN setup\n",
    "    target_distribution = tfd.TransformedDistribution(\n",
    "        distribution=base,\n",
    "        bijector=tfb.Chain(bijectors)) \n",
    "\n",
    "    # Construct model.\n",
    "    x_ = tfk.Input(shape=(dim,), dtype=tf.float32)\n",
    "    log_prob_ = target_distribution.log_prob(x_)\n",
    "    model = tfk.Model(x_, log_prob_)\n",
    "\n",
    "    model.compile(optimizer=tf.optimizers.Adam(learning_rate=0.01),\n",
    "                  loss=lambda _, log_prob: -log_prob) \n",
    "    \n",
    "    print('---   Model compiled   ---')\n",
    "    print(\" - N samples = {}\".format(nsamples))\n",
    "    if weights.all()==weights[0]:\n",
    "        print(\" - Uniform weights = {}\".format(weights[0]))\n",
    "    else:\n",
    "        print(\" - Non-uniform weights\")\n",
    "    print(\" - Pre-Gaussian Map = True\\n\")\n",
    "    print(\" - Validation split = {}\".format(val_split))\n",
    "    print(' - Number MAFS = {} '.format(int(len(bijectors)/2)))\n",
    "    print(' - Trainable parameters = {} \\n'.format(model.count_params()))\n",
    "    \n",
    "    # now perform the fit\n",
    "    model.fit(x=xdata,\n",
    "              y=np.zeros((nsamples, dim),dtype=np.float32),\n",
    "              batch_size=batch_size,\n",
    "              epochs=n_epochs,\n",
    "              steps_per_epoch=int(nsamples/batch_size*0.8),  # Usually `n // batch_size`.\n",
    "              validation_split=val_split,\n",
    "              shuffle=True,\n",
    "              verbose=False,\n",
    "              callbacks=[Callback(),tfk.callbacks.ReduceLROnPlateau()]) #, ydata\n",
    "    \n",
    "    return(target_distribution,bij)\n",
    "\n",
    "def setup(n_maf,n_params,permute):\n",
    "    # Set up bijector MADE\n",
    "    hidden_units=[n_params*2]*2\n",
    "    print('---   MADE Info   ---')\n",
    "    print(' - Hidden_units = {}'.format(hidden_units))\n",
    "    print(' - Activation = {}\\n'.format(tf.math.asinh))\n",
    "    bijectors=[]\n",
    "    if(permute==True):\n",
    "        _permutations = [np.random.permutation(n_params) for _ in range(n_maf)]\n",
    "    else:\n",
    "        _permutations=False\n",
    "    \n",
    "    for i in range(n_maf):\n",
    "        # the permutation part comes from the code M. Raveri wrote,\n",
    "        if _permutations:\n",
    "            #print(_permutations[i])\n",
    "            bijectors.append(tfb.Permute(_permutations[i].astype(np.int32)))\n",
    "        # rest by myself\n",
    "        bijectors.append(tfb.MaskedAutoregressiveFlow(shift_and_log_scale_fn=tfb.AutoregressiveNetwork(params=2, event_shape=(n_params,), hidden_units=hidden_units, activation=tf.math.asinh, kernel_initializer='glorot_uniform')))\n",
    "        \n",
    "    return bijectors\n",
    "\n",
    "def diff_boost(n_boost,chains,indexes):\n",
    "    # get data\n",
    "    chain1 = chains[0].samples\n",
    "    chain2 = chains[1].samples\n",
    "    w_chain1 = chains[0].weights\n",
    "    w_chain2 = chains[1].weights\n",
    "    ll_chain1 = chains[0].loglikes\n",
    "    ll_chain2 = chains[1].loglikes\n",
    "\n",
    "    idx1 = indexes[0]\n",
    "    idx2 = indexes[1]\n",
    "\n",
    "    assert len(idx1)==len(idx2)\n",
    "\n",
    "    # ensure first chain is longer than the second.\n",
    "    # Need to keep track if I flipped the data so I get the signs right (although in principle it doesn't matter, Its better for everyones results to look the same even if they import chains in different orders)\n",
    "    flip=False\n",
    "    if( len(chain1) < len(chain2) ):\n",
    "        chain1,chain2 = chain2,chain1\n",
    "        w_chain1,w_chain2 = w_chain2,w_chain1\n",
    "        ll_chain1,ll_chain2 = ll_chain2,ll_chain1\n",
    "        idx1,idx2 = idx2,idx1\n",
    "        flip=True\n",
    "    \n",
    "    N1 = len(chain1)\n",
    "    N2 = len(chain2)\n",
    "    #print('N1 = {}'.format(N1))\n",
    "    #print('N2 = {}'.format(N2))\n",
    "\n",
    "    # set up parameter diff arrays\n",
    "    diff = np.zeros((N1*n_boost,len(idx1)),dtype=np.float32)\n",
    "    weights = np.zeros(N1*n_boost,dtype=np.float32)\n",
    "    loglikes = np.zeros(N1*n_boost,dtype=np.float32)\n",
    "        \n",
    "    for i in range(n_boost):\n",
    "        # find the range of indices to use for chain 2\n",
    "        lower = int((i/n_boost)*N1)\n",
    "        upper = lower+N1\n",
    "\n",
    "        # compute stuff\n",
    "        if flip==True:\n",
    "            diff[i*N1:(i+1)*N1] = -chain1[:N1,idx1] + np.take(chain2[:,idx2], range(lower,upper), axis=0, mode='wrap')\n",
    "        else:\n",
    "            diff[i*N1:(i+1)*N1] = chain1[:N1,idx1] - np.take(chain2[:,idx2], range(lower,upper), axis=0, mode='wrap')\n",
    "\n",
    "        weights[i*N1:(i+1)*N1] = w_chain1*np.take(w_chain2, range(lower,upper), mode='wrap')\n",
    "        loglikes[i*N1:(i+1)*N1] = ll_chain1+np.take(ll_chain2, range(lower,upper), mode='wrap')\n",
    "\n",
    "    min_weight_ratio = min(chains[0].min_weight_ratio,\n",
    "                               chains[1].min_weight_ratio)\n",
    "\n",
    "    diff_samples = WeightedSamples(ignore_rows=0,\n",
    "                                   samples=diff,\n",
    "                                   weights=weights, loglikes=loglikes,\n",
    "                                   name_tag=' ', label=' ',\n",
    "                                   min_weight_ratio=min_weight_ratio)\n",
    "\n",
    "    return diff_samples\n",
    "\n",
    "def permute_chains(chain1,chain2):\n",
    "    #get indiv chains\n",
    "    _chains_1 = chain1.getSeparateChains()\n",
    "    _chains_2 = chain2.getSeparateChains()\n",
    "    param_names_1 = chain1.getParamNames().getRunningNames()\n",
    "    param_names_2 = chain2.getParamNames().getRunningNames()\n",
    "\n",
    "    # find only the params in both chains\n",
    "    common_params = [param for param in param_names_1 if param in param_names_2]\n",
    "\n",
    "    idx_1 = [param_names_1.index(param) for param in param_names_1 if param in param_names_2]\n",
    "    idx_2 = [param_names_2.index(param) for param in param_names_2 if param in param_names_1]\n",
    "\n",
    "    chains=[]\n",
    "\n",
    "    for ch1 in _chains_1:\n",
    "        for ch2 in _chains_2:\n",
    "            chains.append([ch1,ch2])\n",
    "    \n",
    "    return chains,[idx_2,idx_2],common_params\n"
   ]
  },
  {
   "cell_type": "code",
   "execution_count": 114,
   "id": "e59669a8",
   "metadata": {},
   "outputs": [
    {
     "name": "stdout",
     "output_type": "stream",
     "text": [
      "Removed no burn in\n",
      "Removed no burn in\n"
     ]
    },
    {
     "data": {
      "image/png": "[encoded data removed]",
      "text/plain": [
       "<Figure size 720x720 with 15 Axes>"
      ]
     },
     "metadata": {
      "needs_background": "light"
     },
     "output_type": "display_data"
    }
   ],
   "source": [
    "## Import chains\n",
    "d = '/home/grads/data/evan/calib/'\n",
    "\n",
    "chain_1 = getdist.mcsamples.loadMCSamples(file_root=d+'fiducial')\n",
    "chain_2 = getdist.mcsamples.loadMCSamples(file_root=d+'samples')\n",
    "\n",
    "plot_cosmo_contours([chain_1.samples,chain_2.samples],['fid','1'])"
   ]
  },
  {
   "cell_type": "code",
   "execution_count": 105,
   "id": "a5ab52af",
   "metadata": {},
   "outputs": [
    {
     "name": "stderr",
     "output_type": "stream",
     "text": [
      "100%|███████████████████████████████████████████████████████████| 5000/5000 [17:20<00:00,  4.80it/s]"
     ]
    },
    {
     "name": "stdout",
     "output_type": "stream",
     "text": [
      "Removed no burn in\n"
     ]
    },
    {
     "name": "stderr",
     "output_type": "stream",
     "text": [
      "\n"
     ]
    }
   ],
   "source": []
  },
  {
   "cell_type": "code",
   "execution_count": null,
   "id": "49330a1d",
   "metadata": {},
   "outputs": [],
   "source": []
  }
 ],
 "metadata": {
  "kernelspec": {
   "display_name": "emu",
   "language": "python",
   "name": "emu"
  },
  "language_info": {
   "codemirror_mode": {
    "name": "ipython",
    "version": 3
   },
   "file_extension": ".py",
   "mimetype": "text/x-python",
   "name": "python",
   "nbconvert_exporter": "python",
   "pygments_lexer": "ipython3",
   "version": "3.7.7"
  }
 },
 "nbformat": 4,
 "nbformat_minor": 5
}
